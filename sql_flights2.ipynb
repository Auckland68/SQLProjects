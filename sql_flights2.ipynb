{
 "cells": [
  {
   "cell_type": "markdown",
   "metadata": {
    "slideshow": {
     "slide_type": "slide"
    }
   },
   "source": [
    "## ☑️ Combining multiple tables"
   ]
  },
  {
   "cell_type": "markdown",
   "metadata": {
    "slideshow": {
     "slide_type": "slide"
    }
   },
   "source": [
    "- Complete the following questions\n",
    "- Make sure you run the following code cells before you attempt any of the questions\n",
    "- We will work with `flights.db` database through this workbook\n",
    "\n",
    "First, import pandas and sqlite3 libraries and create the connection to the `flights.db` database, located in the `data` folder:"
   ]
  },
  {
   "cell_type": "code",
   "execution_count": 1,
   "metadata": {
    "slideshow": {
     "slide_type": "slide"
    }
   },
   "outputs": [],
   "source": [
    "import pandas as pd\n",
    "import sqlite3\n",
    "\n",
    "conn = sqlite3.connect('data/flights.db')"
   ]
  },
  {
   "cell_type": "markdown",
   "metadata": {
    "slideshow": {
     "slide_type": "slide"
    }
   },
   "source": [
    "A database might have multiple tables. It's a good idea to do an initial exploration of the database by first querying the `sqlite_master` table to see what tables are in the database.\n",
    "\n",
    "Run the following code cell to show all the tables in the `flights.db` database:"
   ]
  },
  {
   "cell_type": "code",
   "execution_count": 2,
   "metadata": {
    "slideshow": {
     "slide_type": "slide"
    }
   },
   "outputs": [
    {
     "data": {
      "text/html": [
       "<div>\n",
       "<style scoped>\n",
       "    .dataframe tbody tr th:only-of-type {\n",
       "        vertical-align: middle;\n",
       "    }\n",
       "\n",
       "    .dataframe tbody tr th {\n",
       "        vertical-align: top;\n",
       "    }\n",
       "\n",
       "    .dataframe thead th {\n",
       "        text-align: right;\n",
       "    }\n",
       "</style>\n",
       "<table border=\"1\" class=\"dataframe\">\n",
       "  <thead>\n",
       "    <tr style=\"text-align: right;\">\n",
       "      <th></th>\n",
       "      <th>name</th>\n",
       "    </tr>\n",
       "  </thead>\n",
       "  <tbody>\n",
       "    <tr>\n",
       "      <th>0</th>\n",
       "      <td>airports</td>\n",
       "    </tr>\n",
       "    <tr>\n",
       "      <th>1</th>\n",
       "      <td>airlines</td>\n",
       "    </tr>\n",
       "    <tr>\n",
       "      <th>2</th>\n",
       "      <td>routes</td>\n",
       "    </tr>\n",
       "  </tbody>\n",
       "</table>\n",
       "</div>"
      ],
      "text/plain": [
       "       name\n",
       "0  airports\n",
       "1  airlines\n",
       "2    routes"
      ]
     },
     "execution_count": 2,
     "metadata": {},
     "output_type": "execute_result"
    }
   ],
   "source": [
    "query = \"\"\"\n",
    "SELECT name \n",
    "FROM sqlite_master \n",
    "WHERE type = 'table';\n",
    "\"\"\"\n",
    "df = pd.read_sql_query(query, conn)\n",
    "df\n",
    "\n",
    "#df.name.to_list()"
   ]
  },
  {
   "cell_type": "markdown",
   "metadata": {
    "slideshow": {
     "slide_type": "slide"
    }
   },
   "source": [
    "Run the following code cell to show the schema for each table in `flights.db` database:"
   ]
  },
  {
   "cell_type": "code",
   "execution_count": 3,
   "metadata": {
    "slideshow": {
     "slide_type": "slide"
    }
   },
   "outputs": [
    {
     "name": "stdout",
     "output_type": "stream",
     "text": [
      "CREATE TABLE airports (\n",
      "[index] INTEGER,\n",
      "  [id] TEXT,\n",
      "  [name] TEXT,\n",
      "  [city] TEXT,\n",
      "  [country] TEXT,\n",
      "  [code] TEXT,\n",
      "  [icao] TEXT,\n",
      "  [latitude] TEXT,\n",
      "  [longitude] TEXT,\n",
      "  [altitude] TEXT,\n",
      "  [offset] TEXT,\n",
      "  [dst] TEXT,\n",
      "  [timezone] TEXT\n",
      ")\n",
      "CREATE TABLE airlines (\n",
      "[index] INTEGER,\n",
      "  [id] TEXT,\n",
      "  [name] TEXT,\n",
      "  [alias] TEXT,\n",
      "  [iata] TEXT,\n",
      "  [icao] TEXT,\n",
      "  [callsign] TEXT,\n",
      "  [country] TEXT,\n",
      "  [active] TEXT\n",
      ")\n",
      "CREATE TABLE routes (\n",
      "[index] INTEGER,\n",
      "  [airline] TEXT,\n",
      "  [airline_id] TEXT,\n",
      "  [source] TEXT,\n",
      "  [source_id] TEXT,\n",
      "  [dest] TEXT,\n",
      "  [dest_id] TEXT,\n",
      "  [codeshare] TEXT,\n",
      "  [stops] TEXT,\n",
      "  [equipment] TEXT\n",
      ")\n"
     ]
    }
   ],
   "source": [
    "for table in ['airports','airlines','routes']:\n",
    "    \n",
    "    query = f\"\"\"\n",
    "    SELECT sql \n",
    "    FROM sqlite_master \n",
    "    WHERE name = '{table}';\n",
    "    \"\"\"\n",
    "    \n",
    "    df = pd.read_sql_query(query, conn)\n",
    "    print(''.join(df.values[0, 0]))"
   ]
  },
  {
   "cell_type": "markdown",
   "metadata": {
    "slideshow": {
     "slide_type": "slide"
    }
   },
   "source": [
    "Run the following code cells to show the contents for each table in `flights.db` database: `['airports','airlines','routes']`"
   ]
  },
  {
   "cell_type": "code",
   "execution_count": 4,
   "metadata": {
    "slideshow": {
     "slide_type": "slide"
    }
   },
   "outputs": [
    {
     "data": {
      "text/html": [
       "<div>\n",
       "<style scoped>\n",
       "    .dataframe tbody tr th:only-of-type {\n",
       "        vertical-align: middle;\n",
       "    }\n",
       "\n",
       "    .dataframe tbody tr th {\n",
       "        vertical-align: top;\n",
       "    }\n",
       "\n",
       "    .dataframe thead th {\n",
       "        text-align: right;\n",
       "    }\n",
       "</style>\n",
       "<table border=\"1\" class=\"dataframe\">\n",
       "  <thead>\n",
       "    <tr style=\"text-align: right;\">\n",
       "      <th></th>\n",
       "      <th>index</th>\n",
       "      <th>id</th>\n",
       "      <th>name</th>\n",
       "      <th>city</th>\n",
       "      <th>country</th>\n",
       "      <th>code</th>\n",
       "      <th>icao</th>\n",
       "      <th>latitude</th>\n",
       "      <th>longitude</th>\n",
       "      <th>altitude</th>\n",
       "      <th>offset</th>\n",
       "      <th>dst</th>\n",
       "      <th>timezone</th>\n",
       "    </tr>\n",
       "  </thead>\n",
       "  <tbody>\n",
       "    <tr>\n",
       "      <th>0</th>\n",
       "      <td>0</td>\n",
       "      <td>1</td>\n",
       "      <td>Goroka</td>\n",
       "      <td>Goroka</td>\n",
       "      <td>Papua New Guinea</td>\n",
       "      <td>GKA</td>\n",
       "      <td>AYGA</td>\n",
       "      <td>-6.081689</td>\n",
       "      <td>145.391881</td>\n",
       "      <td>5282</td>\n",
       "      <td>10</td>\n",
       "      <td>U</td>\n",
       "      <td>Pacific/Port_Moresby</td>\n",
       "    </tr>\n",
       "    <tr>\n",
       "      <th>1</th>\n",
       "      <td>1</td>\n",
       "      <td>2</td>\n",
       "      <td>Madang</td>\n",
       "      <td>Madang</td>\n",
       "      <td>Papua New Guinea</td>\n",
       "      <td>MAG</td>\n",
       "      <td>AYMD</td>\n",
       "      <td>-5.207083</td>\n",
       "      <td>145.7887</td>\n",
       "      <td>20</td>\n",
       "      <td>10</td>\n",
       "      <td>U</td>\n",
       "      <td>Pacific/Port_Moresby</td>\n",
       "    </tr>\n",
       "  </tbody>\n",
       "</table>\n",
       "</div>"
      ],
      "text/plain": [
       "   index id    name    city           country code  icao   latitude  \\\n",
       "0      0  1  Goroka  Goroka  Papua New Guinea  GKA  AYGA  -6.081689   \n",
       "1      1  2  Madang  Madang  Papua New Guinea  MAG  AYMD  -5.207083   \n",
       "\n",
       "    longitude altitude offset dst              timezone  \n",
       "0  145.391881     5282     10   U  Pacific/Port_Moresby  \n",
       "1    145.7887       20     10   U  Pacific/Port_Moresby  "
      ]
     },
     "execution_count": 4,
     "metadata": {},
     "output_type": "execute_result"
    }
   ],
   "source": [
    "query = \"\"\"\n",
    "SELECT *\n",
    "FROM airports;\n",
    "\"\"\"\n",
    "df = pd.read_sql_query(query, conn)\n",
    "df.head(2)"
   ]
  },
  {
   "cell_type": "code",
   "execution_count": 5,
   "metadata": {
    "slideshow": {
     "slide_type": "slide"
    }
   },
   "outputs": [
    {
     "data": {
      "text/html": [
       "<div>\n",
       "<style scoped>\n",
       "    .dataframe tbody tr th:only-of-type {\n",
       "        vertical-align: middle;\n",
       "    }\n",
       "\n",
       "    .dataframe tbody tr th {\n",
       "        vertical-align: top;\n",
       "    }\n",
       "\n",
       "    .dataframe thead th {\n",
       "        text-align: right;\n",
       "    }\n",
       "</style>\n",
       "<table border=\"1\" class=\"dataframe\">\n",
       "  <thead>\n",
       "    <tr style=\"text-align: right;\">\n",
       "      <th></th>\n",
       "      <th>index</th>\n",
       "      <th>id</th>\n",
       "      <th>name</th>\n",
       "      <th>alias</th>\n",
       "      <th>iata</th>\n",
       "      <th>icao</th>\n",
       "      <th>callsign</th>\n",
       "      <th>country</th>\n",
       "      <th>active</th>\n",
       "    </tr>\n",
       "  </thead>\n",
       "  <tbody>\n",
       "    <tr>\n",
       "      <th>0</th>\n",
       "      <td>0</td>\n",
       "      <td>1</td>\n",
       "      <td>Private flight</td>\n",
       "      <td>\\N</td>\n",
       "      <td>-</td>\n",
       "      <td>None</td>\n",
       "      <td>None</td>\n",
       "      <td>None</td>\n",
       "      <td>Y</td>\n",
       "    </tr>\n",
       "    <tr>\n",
       "      <th>1</th>\n",
       "      <td>1</td>\n",
       "      <td>2</td>\n",
       "      <td>135 Airways</td>\n",
       "      <td>\\N</td>\n",
       "      <td>None</td>\n",
       "      <td>GNL</td>\n",
       "      <td>GENERAL</td>\n",
       "      <td>United States</td>\n",
       "      <td>N</td>\n",
       "    </tr>\n",
       "  </tbody>\n",
       "</table>\n",
       "</div>"
      ],
      "text/plain": [
       "   index id            name alias  iata  icao callsign        country active\n",
       "0      0  1  Private flight    \\N     -  None     None           None      Y\n",
       "1      1  2     135 Airways    \\N  None   GNL  GENERAL  United States      N"
      ]
     },
     "execution_count": 5,
     "metadata": {},
     "output_type": "execute_result"
    }
   ],
   "source": [
    "query = \"\"\"\n",
    "SELECT *\n",
    "FROM airlines;\n",
    "\"\"\"\n",
    "df = pd.read_sql_query(query, conn)\n",
    "df.head(2)"
   ]
  },
  {
   "cell_type": "code",
   "execution_count": 6,
   "metadata": {
    "slideshow": {
     "slide_type": "slide"
    }
   },
   "outputs": [
    {
     "data": {
      "text/html": [
       "<div>\n",
       "<style scoped>\n",
       "    .dataframe tbody tr th:only-of-type {\n",
       "        vertical-align: middle;\n",
       "    }\n",
       "\n",
       "    .dataframe tbody tr th {\n",
       "        vertical-align: top;\n",
       "    }\n",
       "\n",
       "    .dataframe thead th {\n",
       "        text-align: right;\n",
       "    }\n",
       "</style>\n",
       "<table border=\"1\" class=\"dataframe\">\n",
       "  <thead>\n",
       "    <tr style=\"text-align: right;\">\n",
       "      <th></th>\n",
       "      <th>index</th>\n",
       "      <th>airline</th>\n",
       "      <th>airline_id</th>\n",
       "      <th>source</th>\n",
       "      <th>source_id</th>\n",
       "      <th>dest</th>\n",
       "      <th>dest_id</th>\n",
       "      <th>codeshare</th>\n",
       "      <th>stops</th>\n",
       "      <th>equipment</th>\n",
       "    </tr>\n",
       "  </thead>\n",
       "  <tbody>\n",
       "    <tr>\n",
       "      <th>0</th>\n",
       "      <td>0</td>\n",
       "      <td>2B</td>\n",
       "      <td>410</td>\n",
       "      <td>AER</td>\n",
       "      <td>2965</td>\n",
       "      <td>KZN</td>\n",
       "      <td>2990</td>\n",
       "      <td>None</td>\n",
       "      <td>0</td>\n",
       "      <td>CR2</td>\n",
       "    </tr>\n",
       "    <tr>\n",
       "      <th>1</th>\n",
       "      <td>1</td>\n",
       "      <td>2B</td>\n",
       "      <td>410</td>\n",
       "      <td>ASF</td>\n",
       "      <td>2966</td>\n",
       "      <td>KZN</td>\n",
       "      <td>2990</td>\n",
       "      <td>None</td>\n",
       "      <td>0</td>\n",
       "      <td>CR2</td>\n",
       "    </tr>\n",
       "  </tbody>\n",
       "</table>\n",
       "</div>"
      ],
      "text/plain": [
       "   index airline airline_id source source_id dest dest_id codeshare stops  \\\n",
       "0      0      2B        410    AER      2965  KZN    2990      None     0   \n",
       "1      1      2B        410    ASF      2966  KZN    2990      None     0   \n",
       "\n",
       "  equipment  \n",
       "0       CR2  \n",
       "1       CR2  "
      ]
     },
     "execution_count": 6,
     "metadata": {},
     "output_type": "execute_result"
    }
   ],
   "source": [
    "query = \"\"\"\n",
    "SELECT *\n",
    "FROM routes;\n",
    "\"\"\"\n",
    "df = pd.read_sql_query(query, conn)\n",
    "df.head(2)"
   ]
  },
  {
   "cell_type": "markdown",
   "metadata": {
    "slideshow": {
     "slide_type": "slide"
    }
   },
   "source": [
    "**Q1)** Combine `routes` and `airlines` tables using a `INNER JOIN`.\n",
    "\n",
    "- Please note `routes.airline_id` column and `airlines.id` column are related in the two tables: `routes.airline_id=airlines.id`\n",
    "\n",
    "- Show only `routes.airline`, `routes.airline_id`, `airlines.name` columns in the final result\n",
    "\n",
    "See below code syntax for some guidance:\n",
    "```SQL\n",
    "SELECT <column_names>\n",
    "FROM <table1>\n",
    "INNER JOIN <table2>\n",
    "ON table1.column_name = table2.column_name;\n",
    "```\n",
    "Please note you have been provided with the code for this question to carry out the necessary analysis work. Simply run the code cell to produce the desired results."
   ]
  },
  {
   "cell_type": "code",
   "execution_count": 7,
   "metadata": {
    "slideshow": {
     "slide_type": "slide"
    }
   },
   "outputs": [
    {
     "data": {
      "text/html": [
       "<div>\n",
       "<style scoped>\n",
       "    .dataframe tbody tr th:only-of-type {\n",
       "        vertical-align: middle;\n",
       "    }\n",
       "\n",
       "    .dataframe tbody tr th {\n",
       "        vertical-align: top;\n",
       "    }\n",
       "\n",
       "    .dataframe thead th {\n",
       "        text-align: right;\n",
       "    }\n",
       "</style>\n",
       "<table border=\"1\" class=\"dataframe\">\n",
       "  <thead>\n",
       "    <tr style=\"text-align: right;\">\n",
       "      <th></th>\n",
       "      <th>airline</th>\n",
       "      <th>airline_id</th>\n",
       "      <th>name</th>\n",
       "    </tr>\n",
       "  </thead>\n",
       "  <tbody>\n",
       "    <tr>\n",
       "      <th>0</th>\n",
       "      <td>2B</td>\n",
       "      <td>410</td>\n",
       "      <td>Aerocondor</td>\n",
       "    </tr>\n",
       "    <tr>\n",
       "      <th>1</th>\n",
       "      <td>2B</td>\n",
       "      <td>410</td>\n",
       "      <td>Aerocondor</td>\n",
       "    </tr>\n",
       "    <tr>\n",
       "      <th>2</th>\n",
       "      <td>2B</td>\n",
       "      <td>410</td>\n",
       "      <td>Aerocondor</td>\n",
       "    </tr>\n",
       "    <tr>\n",
       "      <th>3</th>\n",
       "      <td>2B</td>\n",
       "      <td>410</td>\n",
       "      <td>Aerocondor</td>\n",
       "    </tr>\n",
       "    <tr>\n",
       "      <th>4</th>\n",
       "      <td>2B</td>\n",
       "      <td>410</td>\n",
       "      <td>Aerocondor</td>\n",
       "    </tr>\n",
       "    <tr>\n",
       "      <th>...</th>\n",
       "      <td>...</td>\n",
       "      <td>...</td>\n",
       "      <td>...</td>\n",
       "    </tr>\n",
       "    <tr>\n",
       "      <th>66980</th>\n",
       "      <td>ZL</td>\n",
       "      <td>4178</td>\n",
       "      <td>Regional Express</td>\n",
       "    </tr>\n",
       "    <tr>\n",
       "      <th>66981</th>\n",
       "      <td>ZM</td>\n",
       "      <td>19016</td>\n",
       "      <td>Apache Air</td>\n",
       "    </tr>\n",
       "    <tr>\n",
       "      <th>66982</th>\n",
       "      <td>ZM</td>\n",
       "      <td>19016</td>\n",
       "      <td>Apache Air</td>\n",
       "    </tr>\n",
       "    <tr>\n",
       "      <th>66983</th>\n",
       "      <td>ZM</td>\n",
       "      <td>19016</td>\n",
       "      <td>Apache Air</td>\n",
       "    </tr>\n",
       "    <tr>\n",
       "      <th>66984</th>\n",
       "      <td>ZM</td>\n",
       "      <td>19016</td>\n",
       "      <td>Apache Air</td>\n",
       "    </tr>\n",
       "  </tbody>\n",
       "</table>\n",
       "<p>66985 rows × 3 columns</p>\n",
       "</div>"
      ],
      "text/plain": [
       "      airline airline_id              name\n",
       "0          2B        410        Aerocondor\n",
       "1          2B        410        Aerocondor\n",
       "2          2B        410        Aerocondor\n",
       "3          2B        410        Aerocondor\n",
       "4          2B        410        Aerocondor\n",
       "...       ...        ...               ...\n",
       "66980      ZL       4178  Regional Express\n",
       "66981      ZM      19016        Apache Air\n",
       "66982      ZM      19016        Apache Air\n",
       "66983      ZM      19016        Apache Air\n",
       "66984      ZM      19016        Apache Air\n",
       "\n",
       "[66985 rows x 3 columns]"
      ]
     },
     "execution_count": 7,
     "metadata": {},
     "output_type": "execute_result"
    }
   ],
   "source": [
    "query = \"\"\"\n",
    "SELECT routes.airline, routes.airline_id, airlines.name\n",
    "FROM routes \n",
    "INNER JOIN airlines \n",
    "ON routes.airline_id = airlines.id;\n",
    "\"\"\" \n",
    "df = pd.read_sql_query(query, conn)\n",
    "df"
   ]
  },
  {
   "cell_type": "markdown",
   "metadata": {
    "slideshow": {
     "slide_type": "slide"
    }
   },
   "source": [
    "**Q2)** Now combine `routes` and `airlines` tables using a `LEFT JOIN`\n",
    "\n",
    "- Please note `routes.airline_id` column and `airlines.id` column are related in the two tables: `routes.airline_id=airlines.id`\n",
    "\n",
    "- Show only `routes.airline`, `routes.airline_id`, `airlines.name` columns\n",
    "\n",
    "See below code syntax for some guidance:\n",
    "```SQL\n",
    "SELECT <column_names>\n",
    "FROM <table1>\n",
    "LEFT JOIN <table2>\n",
    "ON table1.column_name = table2.column_name;\n",
    "```\n",
    "Please note you have been provided with the code for this question to carry out the necessary analysis work. Simply run the code cell to produce the desired results."
   ]
  },
  {
   "cell_type": "code",
   "execution_count": 8,
   "metadata": {
    "slideshow": {
     "slide_type": "slide"
    }
   },
   "outputs": [
    {
     "data": {
      "text/html": [
       "<div>\n",
       "<style scoped>\n",
       "    .dataframe tbody tr th:only-of-type {\n",
       "        vertical-align: middle;\n",
       "    }\n",
       "\n",
       "    .dataframe tbody tr th {\n",
       "        vertical-align: top;\n",
       "    }\n",
       "\n",
       "    .dataframe thead th {\n",
       "        text-align: right;\n",
       "    }\n",
       "</style>\n",
       "<table border=\"1\" class=\"dataframe\">\n",
       "  <thead>\n",
       "    <tr style=\"text-align: right;\">\n",
       "      <th></th>\n",
       "      <th>airline</th>\n",
       "      <th>airline_id</th>\n",
       "      <th>name</th>\n",
       "    </tr>\n",
       "  </thead>\n",
       "  <tbody>\n",
       "    <tr>\n",
       "      <th>0</th>\n",
       "      <td>2B</td>\n",
       "      <td>410</td>\n",
       "      <td>Aerocondor</td>\n",
       "    </tr>\n",
       "    <tr>\n",
       "      <th>1</th>\n",
       "      <td>2B</td>\n",
       "      <td>410</td>\n",
       "      <td>Aerocondor</td>\n",
       "    </tr>\n",
       "    <tr>\n",
       "      <th>2</th>\n",
       "      <td>2B</td>\n",
       "      <td>410</td>\n",
       "      <td>Aerocondor</td>\n",
       "    </tr>\n",
       "    <tr>\n",
       "      <th>3</th>\n",
       "      <td>2B</td>\n",
       "      <td>410</td>\n",
       "      <td>Aerocondor</td>\n",
       "    </tr>\n",
       "    <tr>\n",
       "      <th>4</th>\n",
       "      <td>2B</td>\n",
       "      <td>410</td>\n",
       "      <td>Aerocondor</td>\n",
       "    </tr>\n",
       "    <tr>\n",
       "      <th>...</th>\n",
       "      <td>...</td>\n",
       "      <td>...</td>\n",
       "      <td>...</td>\n",
       "    </tr>\n",
       "    <tr>\n",
       "      <th>67658</th>\n",
       "      <td>ZL</td>\n",
       "      <td>4178</td>\n",
       "      <td>Regional Express</td>\n",
       "    </tr>\n",
       "    <tr>\n",
       "      <th>67659</th>\n",
       "      <td>ZM</td>\n",
       "      <td>19016</td>\n",
       "      <td>Apache Air</td>\n",
       "    </tr>\n",
       "    <tr>\n",
       "      <th>67660</th>\n",
       "      <td>ZM</td>\n",
       "      <td>19016</td>\n",
       "      <td>Apache Air</td>\n",
       "    </tr>\n",
       "    <tr>\n",
       "      <th>67661</th>\n",
       "      <td>ZM</td>\n",
       "      <td>19016</td>\n",
       "      <td>Apache Air</td>\n",
       "    </tr>\n",
       "    <tr>\n",
       "      <th>67662</th>\n",
       "      <td>ZM</td>\n",
       "      <td>19016</td>\n",
       "      <td>Apache Air</td>\n",
       "    </tr>\n",
       "  </tbody>\n",
       "</table>\n",
       "<p>67663 rows × 3 columns</p>\n",
       "</div>"
      ],
      "text/plain": [
       "      airline airline_id              name\n",
       "0          2B        410        Aerocondor\n",
       "1          2B        410        Aerocondor\n",
       "2          2B        410        Aerocondor\n",
       "3          2B        410        Aerocondor\n",
       "4          2B        410        Aerocondor\n",
       "...       ...        ...               ...\n",
       "67658      ZL       4178  Regional Express\n",
       "67659      ZM      19016        Apache Air\n",
       "67660      ZM      19016        Apache Air\n",
       "67661      ZM      19016        Apache Air\n",
       "67662      ZM      19016        Apache Air\n",
       "\n",
       "[67663 rows x 3 columns]"
      ]
     },
     "execution_count": 8,
     "metadata": {},
     "output_type": "execute_result"
    }
   ],
   "source": [
    "query = \"\"\"\n",
    "SELECT routes.airline, routes.airline_id, airlines.name\n",
    "FROM routes\n",
    "LEFT JOIN airlines\n",
    "ON routes.airline_id = airlines.id;\n",
    "\"\"\"\n",
    "df = pd.read_sql_query(query, conn)\n",
    "df"
   ]
  },
  {
   "cell_type": "markdown",
   "metadata": {
    "slideshow": {
     "slide_type": "slide"
    }
   },
   "source": [
    "It is advisable to take a moment to reflect upon the outcomes of questions 1 and 2, ensuring a thorough understanding of the results. Additionally, make sure to jot down any intriguing observations that arise from the analysis."
   ]
  },
  {
   "cell_type": "code",
   "execution_count": 9,
   "metadata": {
    "slideshow": {
     "slide_type": "slide"
    }
   },
   "outputs": [],
   "source": [
    "#add your notes below\n",
    "\n",
    "#INNER JOIN indeed produces a result with fewer or equal rows compared to the original tables,\n",
    "#whereas LEFT JOIN can potentially result in a larger number of rows in the output compared to the left table.\n"
   ]
  },
  {
   "cell_type": "markdown",
   "metadata": {
    "slideshow": {
     "slide_type": "slide"
    }
   },
   "source": [
    "**Q3)** Get the `latitude` and `longitude` for the *origin* of each route, along with the name of the `city` where the origin airport is located.\n",
    "\n",
    "We suggest dealing with this in incremental steps:\n",
    "- Use a `INNER JOIN` to combine the `routes` and `airports` tables\n",
    "\n",
    "- Note `routes.source_id` column and `airlines.id` column should be connected in the two tables: `routes.source_id=airports.id`\n",
    "\n",
    "- Show only `airports.city`, `airports.longitude`, `airports.latitude` columns\n",
    "\n",
    "- Limit the results to 5 records only\n",
    "\n",
    "See below code syntax for some guidance:\n",
    "```SQL\n",
    "SELECT <column_names>\n",
    "FROM <table1>\n",
    "INNER JOIN <table2>\n",
    "ON table1.column_name = table2.column_name\n",
    "LIMIT 5;\n",
    "```"
   ]
  },
  {
   "cell_type": "code",
   "execution_count": 10,
   "metadata": {
    "slideshow": {
     "slide_type": "slide"
    }
   },
   "outputs": [
    {
     "data": {
      "text/html": [
       "<div>\n",
       "<style scoped>\n",
       "    .dataframe tbody tr th:only-of-type {\n",
       "        vertical-align: middle;\n",
       "    }\n",
       "\n",
       "    .dataframe tbody tr th {\n",
       "        vertical-align: top;\n",
       "    }\n",
       "\n",
       "    .dataframe thead th {\n",
       "        text-align: right;\n",
       "    }\n",
       "</style>\n",
       "<table border=\"1\" class=\"dataframe\">\n",
       "  <thead>\n",
       "    <tr style=\"text-align: right;\">\n",
       "      <th></th>\n",
       "      <th>city</th>\n",
       "      <th>longitude</th>\n",
       "      <th>latitude</th>\n",
       "    </tr>\n",
       "  </thead>\n",
       "  <tbody>\n",
       "    <tr>\n",
       "      <th>0</th>\n",
       "      <td>Sochi</td>\n",
       "      <td>39.956589</td>\n",
       "      <td>43.449928</td>\n",
       "    </tr>\n",
       "    <tr>\n",
       "      <th>1</th>\n",
       "      <td>Astrakhan</td>\n",
       "      <td>48.006278</td>\n",
       "      <td>46.283333</td>\n",
       "    </tr>\n",
       "    <tr>\n",
       "      <th>2</th>\n",
       "      <td>Astrakhan</td>\n",
       "      <td>48.006278</td>\n",
       "      <td>46.283333</td>\n",
       "    </tr>\n",
       "    <tr>\n",
       "      <th>3</th>\n",
       "      <td>Chelyabinsk</td>\n",
       "      <td>61.503333</td>\n",
       "      <td>55.305836</td>\n",
       "    </tr>\n",
       "    <tr>\n",
       "      <th>4</th>\n",
       "      <td>Chelyabinsk</td>\n",
       "      <td>61.503333</td>\n",
       "      <td>55.305836</td>\n",
       "    </tr>\n",
       "  </tbody>\n",
       "</table>\n",
       "</div>"
      ],
      "text/plain": [
       "          city  longitude   latitude\n",
       "0        Sochi  39.956589  43.449928\n",
       "1    Astrakhan  48.006278  46.283333\n",
       "2    Astrakhan  48.006278  46.283333\n",
       "3  Chelyabinsk  61.503333  55.305836\n",
       "4  Chelyabinsk  61.503333  55.305836"
      ]
     },
     "execution_count": 10,
     "metadata": {},
     "output_type": "execute_result"
    }
   ],
   "source": [
    "#add your code below\n",
    "#query = ...\n",
    "\n",
    "query = \"\"\"\n",
    "SELECT airports.city, airports.longitude, airports.latitude\n",
    "FROM routes\n",
    "INNER JOIN airports\n",
    "ON routes.source_id = airports.id\n",
    "LIMIT 5;\n",
    "\"\"\"\n",
    "df = pd.read_sql_query(query, conn)\n",
    "df"
   ]
  },
  {
   "cell_type": "markdown",
   "metadata": {
    "slideshow": {
     "slide_type": "slide"
    }
   },
   "source": [
    "**Q4)** We can also get the destination coordinates (latitude and longitude) by matching *destination* id to the airport id. Add an additional `INNER JOIN` to the previous query, and select the corresponding columns to return the destination coordinates.\n",
    "\n",
    "Please note you have been provided with the code for this question to carry out the necessary analysis work. Simply run the code cell to produce the desired results."
   ]
  },
  {
   "cell_type": "code",
   "execution_count": 11,
   "metadata": {
    "slideshow": {
     "slide_type": "slide"
    }
   },
   "outputs": [
    {
     "data": {
      "text/html": [
       "<div>\n",
       "<style scoped>\n",
       "    .dataframe tbody tr th:only-of-type {\n",
       "        vertical-align: middle;\n",
       "    }\n",
       "\n",
       "    .dataframe tbody tr th {\n",
       "        vertical-align: top;\n",
       "    }\n",
       "\n",
       "    .dataframe thead th {\n",
       "        text-align: right;\n",
       "    }\n",
       "</style>\n",
       "<table border=\"1\" class=\"dataframe\">\n",
       "  <thead>\n",
       "    <tr style=\"text-align: right;\">\n",
       "      <th></th>\n",
       "      <th>source_city</th>\n",
       "      <th>origin_lon</th>\n",
       "      <th>origin_lat</th>\n",
       "      <th>dest_lon</th>\n",
       "      <th>dest_lat</th>\n",
       "    </tr>\n",
       "  </thead>\n",
       "  <tbody>\n",
       "    <tr>\n",
       "      <th>0</th>\n",
       "      <td>Sochi</td>\n",
       "      <td>39.956589</td>\n",
       "      <td>43.449928</td>\n",
       "      <td>49.278728</td>\n",
       "      <td>55.606186</td>\n",
       "    </tr>\n",
       "    <tr>\n",
       "      <th>1</th>\n",
       "      <td>Astrakhan</td>\n",
       "      <td>48.006278</td>\n",
       "      <td>46.283333</td>\n",
       "      <td>49.278728</td>\n",
       "      <td>55.606186</td>\n",
       "    </tr>\n",
       "    <tr>\n",
       "      <th>2</th>\n",
       "      <td>Astrakhan</td>\n",
       "      <td>48.006278</td>\n",
       "      <td>46.283333</td>\n",
       "      <td>43.081889</td>\n",
       "      <td>44.225072</td>\n",
       "    </tr>\n",
       "    <tr>\n",
       "      <th>3</th>\n",
       "      <td>Chelyabinsk</td>\n",
       "      <td>61.503333</td>\n",
       "      <td>55.305836</td>\n",
       "      <td>49.278728</td>\n",
       "      <td>55.606186</td>\n",
       "    </tr>\n",
       "    <tr>\n",
       "      <th>4</th>\n",
       "      <td>Chelyabinsk</td>\n",
       "      <td>61.503333</td>\n",
       "      <td>55.305836</td>\n",
       "      <td>82.650656</td>\n",
       "      <td>55.012622</td>\n",
       "    </tr>\n",
       "  </tbody>\n",
       "</table>\n",
       "</div>"
      ],
      "text/plain": [
       "   source_city origin_lon origin_lat   dest_lon   dest_lat\n",
       "0        Sochi  39.956589  43.449928  49.278728  55.606186\n",
       "1    Astrakhan  48.006278  46.283333  49.278728  55.606186\n",
       "2    Astrakhan  48.006278  46.283333  43.081889  44.225072\n",
       "3  Chelyabinsk  61.503333  55.305836  49.278728  55.606186\n",
       "4  Chelyabinsk  61.503333  55.305836  82.650656  55.012622"
      ]
     },
     "execution_count": 11,
     "metadata": {},
     "output_type": "execute_result"
    }
   ],
   "source": [
    "query = \"\"\"\n",
    "SELECT sa.city AS source_city,\n",
    "    sa.longitude AS origin_lon,\n",
    "    sa.latitude AS origin_lat,\n",
    "    da.longitude AS dest_lon,\n",
    "    da.latitude AS dest_lat\n",
    "FROM routes\n",
    "\n",
    "INNER JOIN airports AS sa\n",
    "ON sa.id = routes.source_id\n",
    "\n",
    "INNER JOIN airports AS da\n",
    "ON da.id = routes.dest_id\n",
    "\n",
    "LIMIT 5;\n",
    "\"\"\"\n",
    "df = pd.read_sql_query(query, conn)\n",
    "df"
   ]
  },
  {
   "cell_type": "markdown",
   "metadata": {
    "slideshow": {
     "slide_type": "slide"
    }
   },
   "source": [
    "**Q5)** Find the number of routes per airline. Optionally see if you can sort the results in descending order. \n",
    "\n",
    "We suggest dealing with this in incremental steps:\n",
    "- Use a `INNER JOIN` to combine the `routes` and `airlines` tables\n",
    "\n",
    "- Note `routes.airline_id` column and `airlines.id` column should be connected in the two tables: `routes.airline_id=airlines.id`\n",
    "\n",
    "- Remember to `GROUP BY` using `routes.airline_id` column\n",
    "\n",
    "- Find the number of routes per airline, consider using `COUNT(*)` function\n",
    "\n",
    "- Show only `airline_id`, `airlines.name` columns along with the `COUNT` of routes per each airline\n",
    "\n",
    "- Use `ORDER BY` to sort the results in descending order\n",
    "\n",
    "- Limit the results to 5 records only\n",
    "\n",
    "\n",
    "\n",
    "See below code syntax for some guidance:\n",
    "```SQL\n",
    "SELECT <column_names>, COUNT(*) \n",
    "FROM <table1>\n",
    "INNER JOIN <table2>\n",
    "ON table1.column_name = table2.column_name\n",
    "GROUP BY <column_name>\n",
    "ORDER BY <column_name> DESC\n",
    "LIMIT 5;\n",
    "```"
   ]
  },
  {
   "cell_type": "code",
   "execution_count": 12,
   "metadata": {
    "slideshow": {
     "slide_type": "slide"
    }
   },
   "outputs": [
    {
     "data": {
      "text/html": [
       "<div>\n",
       "<style scoped>\n",
       "    .dataframe tbody tr th:only-of-type {\n",
       "        vertical-align: middle;\n",
       "    }\n",
       "\n",
       "    .dataframe tbody tr th {\n",
       "        vertical-align: top;\n",
       "    }\n",
       "\n",
       "    .dataframe thead th {\n",
       "        text-align: right;\n",
       "    }\n",
       "</style>\n",
       "<table border=\"1\" class=\"dataframe\">\n",
       "  <thead>\n",
       "    <tr style=\"text-align: right;\">\n",
       "      <th></th>\n",
       "      <th>airline_id</th>\n",
       "      <th>name</th>\n",
       "      <th>nroutes</th>\n",
       "    </tr>\n",
       "  </thead>\n",
       "  <tbody>\n",
       "    <tr>\n",
       "      <th>0</th>\n",
       "      <td>4296</td>\n",
       "      <td>Ryanair</td>\n",
       "      <td>2484</td>\n",
       "    </tr>\n",
       "    <tr>\n",
       "      <th>1</th>\n",
       "      <td>24</td>\n",
       "      <td>American Airlines</td>\n",
       "      <td>2354</td>\n",
       "    </tr>\n",
       "    <tr>\n",
       "      <th>2</th>\n",
       "      <td>5209</td>\n",
       "      <td>United Airlines</td>\n",
       "      <td>2180</td>\n",
       "    </tr>\n",
       "    <tr>\n",
       "      <th>3</th>\n",
       "      <td>2009</td>\n",
       "      <td>Delta Air Lines</td>\n",
       "      <td>1981</td>\n",
       "    </tr>\n",
       "    <tr>\n",
       "      <th>4</th>\n",
       "      <td>5265</td>\n",
       "      <td>US Airways</td>\n",
       "      <td>1960</td>\n",
       "    </tr>\n",
       "  </tbody>\n",
       "</table>\n",
       "</div>"
      ],
      "text/plain": [
       "  airline_id               name  nroutes\n",
       "0       4296            Ryanair     2484\n",
       "1         24  American Airlines     2354\n",
       "2       5209    United Airlines     2180\n",
       "3       2009    Delta Air Lines     1981\n",
       "4       5265         US Airways     1960"
      ]
     },
     "execution_count": 12,
     "metadata": {},
     "output_type": "execute_result"
    }
   ],
   "source": [
    "#add your code below\n",
    "\n",
    "query = \"\"\"\n",
    "SELECT routes.airline_id, airlines.name, COUNT(*) AS nroutes\n",
    "FROM routes\n",
    "INNER JOIN airlines\n",
    "ON routes.airline_id=airlines.id\n",
    "GROUP BY routes.airline_id\n",
    "ORDER BY nroutes DESC\n",
    "LIMIT 5;\n",
    "\"\"\"\n",
    "df = pd.read_sql_query(query, conn)\n",
    "df"
   ]
  },
  {
   "cell_type": "markdown",
   "metadata": {
    "slideshow": {
     "slide_type": "slide"
    }
   },
   "source": [
    "## ☑️ SQL Window Functions"
   ]
  },
  {
   "cell_type": "markdown",
   "metadata": {
    "slideshow": {
     "slide_type": "slide"
    }
   },
   "source": [
    "- Complete the following questions\n",
    "- Make sure you run the following code cells before you attempt any of the questions\n",
    "- We will work with `flights.db` database through this workbook\n",
    "\n",
    "First, import pandas and sqlite3 libraries and create the connection to the `flights.db` database, located in the `data` folder:"
   ]
  },
  {
   "cell_type": "code",
   "execution_count": 13,
   "metadata": {
    "slideshow": {
     "slide_type": "slide"
    }
   },
   "outputs": [],
   "source": [
    "import pandas as pd\n",
    "import sqlite3\n",
    "\n",
    "conn = sqlite3.connect('data/flights.db')"
   ]
  },
  {
   "cell_type": "markdown",
   "metadata": {
    "slideshow": {
     "slide_type": "slide"
    }
   },
   "source": [
    "Run the following code cell to show all the tables in the `flights.db` database:\n",
    "\n",
    "The flights database contains three tables:  `airports, airlines, and routes`:"
   ]
  },
  {
   "cell_type": "code",
   "execution_count": 14,
   "metadata": {
    "slideshow": {
     "slide_type": "slide"
    }
   },
   "outputs": [
    {
     "data": {
      "text/html": [
       "<div>\n",
       "<style scoped>\n",
       "    .dataframe tbody tr th:only-of-type {\n",
       "        vertical-align: middle;\n",
       "    }\n",
       "\n",
       "    .dataframe tbody tr th {\n",
       "        vertical-align: top;\n",
       "    }\n",
       "\n",
       "    .dataframe thead th {\n",
       "        text-align: right;\n",
       "    }\n",
       "</style>\n",
       "<table border=\"1\" class=\"dataframe\">\n",
       "  <thead>\n",
       "    <tr style=\"text-align: right;\">\n",
       "      <th></th>\n",
       "      <th>name</th>\n",
       "    </tr>\n",
       "  </thead>\n",
       "  <tbody>\n",
       "    <tr>\n",
       "      <th>0</th>\n",
       "      <td>airports</td>\n",
       "    </tr>\n",
       "    <tr>\n",
       "      <th>1</th>\n",
       "      <td>airlines</td>\n",
       "    </tr>\n",
       "    <tr>\n",
       "      <th>2</th>\n",
       "      <td>routes</td>\n",
       "    </tr>\n",
       "  </tbody>\n",
       "</table>\n",
       "</div>"
      ],
      "text/plain": [
       "       name\n",
       "0  airports\n",
       "1  airlines\n",
       "2    routes"
      ]
     },
     "execution_count": 14,
     "metadata": {},
     "output_type": "execute_result"
    }
   ],
   "source": [
    "query = \"\"\"\n",
    "SELECT name \n",
    "FROM sqlite_master \n",
    "WHERE type = 'table';\n",
    "\"\"\"\n",
    "df = pd.read_sql_query(query, conn)\n",
    "df\n"
   ]
  },
  {
   "cell_type": "markdown",
   "metadata": {
    "slideshow": {
     "slide_type": "slide"
    }
   },
   "source": [
    "**Q6)** Refer to the `airports` table. For each `timezone`, **rank** each airport by their `latitude` (ascending).\n",
    "\n",
    "We suggest dealing with this in incremental steps:\n",
    "\n",
    "- Show only `name`, `city`, `country` columns from the `airports` table\n",
    "\n",
    "- Remember to use `RANK()` function alongside `OVER()` keyword with the arguments: `PARTITION BY` and `ORDER BY`\n",
    "\n",
    "- Note the rows should be partition by `timezone` and sorted in ascending order of `latitude`\n",
    "\n",
    "See below code syntax for some guidance:\n",
    "```SQL\n",
    "SELECT <column_names>\n",
    "RANK() OVER(PARTITION BY <column_name> ORDER BY <column_name> ASC)\n",
    "FROM airports;\n",
    "```"
   ]
  },
  {
   "cell_type": "code",
   "execution_count": 17,
   "metadata": {
    "slideshow": {
     "slide_type": "slide"
    }
   },
   "outputs": [
    {
     "data": {
      "text/html": [
       "<div>\n",
       "<style scoped>\n",
       "    .dataframe tbody tr th:only-of-type {\n",
       "        vertical-align: middle;\n",
       "    }\n",
       "\n",
       "    .dataframe tbody tr th {\n",
       "        vertical-align: top;\n",
       "    }\n",
       "\n",
       "    .dataframe thead th {\n",
       "        text-align: right;\n",
       "    }\n",
       "</style>\n",
       "<table border=\"1\" class=\"dataframe\">\n",
       "  <thead>\n",
       "    <tr style=\"text-align: right;\">\n",
       "      <th></th>\n",
       "      <th>name</th>\n",
       "      <th>city</th>\n",
       "      <th>country</th>\n",
       "      <th>Ranked</th>\n",
       "    </tr>\n",
       "  </thead>\n",
       "  <tbody>\n",
       "    <tr>\n",
       "      <th>0</th>\n",
       "      <td>San Pedro</td>\n",
       "      <td>San Pedro</td>\n",
       "      <td>Cote d'Ivoire</td>\n",
       "      <td>1</td>\n",
       "    </tr>\n",
       "    <tr>\n",
       "      <th>1</th>\n",
       "      <td>Abidjan Felix Houphouet Boigny Intl</td>\n",
       "      <td>Abidjan</td>\n",
       "      <td>Cote d'Ivoire</td>\n",
       "      <td>2</td>\n",
       "    </tr>\n",
       "    <tr>\n",
       "      <th>2</th>\n",
       "      <td>Daloa</td>\n",
       "      <td>Daloa</td>\n",
       "      <td>Cote d'Ivoire</td>\n",
       "      <td>3</td>\n",
       "    </tr>\n",
       "    <tr>\n",
       "      <th>3</th>\n",
       "      <td>Yamoussoukro</td>\n",
       "      <td>Yamoussoukro</td>\n",
       "      <td>Cote d'Ivoire</td>\n",
       "      <td>4</td>\n",
       "    </tr>\n",
       "    <tr>\n",
       "      <th>4</th>\n",
       "      <td>Man</td>\n",
       "      <td>Man</td>\n",
       "      <td>Cote d'Ivoire</td>\n",
       "      <td>5</td>\n",
       "    </tr>\n",
       "    <tr>\n",
       "      <th>...</th>\n",
       "      <td>...</td>\n",
       "      <td>...</td>\n",
       "      <td>...</td>\n",
       "      <td>...</td>\n",
       "    </tr>\n",
       "    <tr>\n",
       "      <th>8102</th>\n",
       "      <td>Layang Layang Airport</td>\n",
       "      <td>Layang Layang Atoll</td>\n",
       "      <td>Malaysia</td>\n",
       "      <td>88</td>\n",
       "    </tr>\n",
       "    <tr>\n",
       "      <th>8103</th>\n",
       "      <td>Uummannaq Heliport</td>\n",
       "      <td>Uummannaq</td>\n",
       "      <td>Greenland</td>\n",
       "      <td>89</td>\n",
       "    </tr>\n",
       "    <tr>\n",
       "      <th>8104</th>\n",
       "      <td>Dillant Hopkins Airport</td>\n",
       "      <td>Keene</td>\n",
       "      <td>United States</td>\n",
       "      <td>90</td>\n",
       "    </tr>\n",
       "    <tr>\n",
       "      <th>8105</th>\n",
       "      <td>Vilamendhoo</td>\n",
       "      <td>Vilamendhoo</td>\n",
       "      <td>Maldives</td>\n",
       "      <td>91</td>\n",
       "    </tr>\n",
       "    <tr>\n",
       "      <th>8106</th>\n",
       "      <td>Aaa</td>\n",
       "      <td>Aaa</td>\n",
       "      <td>Maldives</td>\n",
       "      <td>92</td>\n",
       "    </tr>\n",
       "  </tbody>\n",
       "</table>\n",
       "<p>8107 rows × 4 columns</p>\n",
       "</div>"
      ],
      "text/plain": [
       "                                     name                 city        country  \\\n",
       "0                               San Pedro            San Pedro  Cote d'Ivoire   \n",
       "1     Abidjan Felix Houphouet Boigny Intl              Abidjan  Cote d'Ivoire   \n",
       "2                                   Daloa                Daloa  Cote d'Ivoire   \n",
       "3                            Yamoussoukro         Yamoussoukro  Cote d'Ivoire   \n",
       "4                                     Man                  Man  Cote d'Ivoire   \n",
       "...                                   ...                  ...            ...   \n",
       "8102                Layang Layang Airport  Layang Layang Atoll       Malaysia   \n",
       "8103                   Uummannaq Heliport            Uummannaq      Greenland   \n",
       "8104              Dillant Hopkins Airport                Keene  United States   \n",
       "8105                          Vilamendhoo          Vilamendhoo       Maldives   \n",
       "8106                                  Aaa                  Aaa       Maldives   \n",
       "\n",
       "      Ranked  \n",
       "0          1  \n",
       "1          2  \n",
       "2          3  \n",
       "3          4  \n",
       "4          5  \n",
       "...      ...  \n",
       "8102      88  \n",
       "8103      89  \n",
       "8104      90  \n",
       "8105      91  \n",
       "8106      92  \n",
       "\n",
       "[8107 rows x 4 columns]"
      ]
     },
     "execution_count": 17,
     "metadata": {},
     "output_type": "execute_result"
    }
   ],
   "source": [
    "#add your code below\n",
    "#query = ...\n",
    "\n",
    "query = \"\"\"\n",
    "SELECT name, city, country, \n",
    "RANK() OVER (PARTITION BY timezone ORDER BY latitude ASC) AS Ranked\n",
    "FROM airports;\n",
    "\"\"\"\n",
    "df = pd.read_sql_query(query, conn)\n",
    "df"
   ]
  },
  {
   "cell_type": "markdown",
   "metadata": {
    "slideshow": {
     "slide_type": "slide"
    }
   },
   "source": [
    "**Q7)** For each airline, get the number of flights that airline runs that leave per country.\n",
    "\n",
    "For example, if \"Adria Airways\" have flights from two different cities in \"Albania\", there should be one row \"Adria Airways, Albania, 2\".\n",
    "\n",
    "Please note you have been provided with the code for this question to carry out the necessary analysis work. Simply run the code cell to produce the desired results."
   ]
  },
  {
   "cell_type": "code",
   "execution_count": 16,
   "metadata": {
    "slideshow": {
     "slide_type": "slide"
    }
   },
   "outputs": [
    {
     "data": {
      "text/html": [
       "<div>\n",
       "<style scoped>\n",
       "    .dataframe tbody tr th:only-of-type {\n",
       "        vertical-align: middle;\n",
       "    }\n",
       "\n",
       "    .dataframe tbody tr th {\n",
       "        vertical-align: top;\n",
       "    }\n",
       "\n",
       "    .dataframe thead th {\n",
       "        text-align: right;\n",
       "    }\n",
       "</style>\n",
       "<table border=\"1\" class=\"dataframe\">\n",
       "  <thead>\n",
       "    <tr style=\"text-align: right;\">\n",
       "      <th></th>\n",
       "      <th>name</th>\n",
       "      <th>country</th>\n",
       "      <th>num_flights</th>\n",
       "    </tr>\n",
       "  </thead>\n",
       "  <tbody>\n",
       "    <tr>\n",
       "      <th>0</th>\n",
       "      <td>40-Mile Air</td>\n",
       "      <td>United States</td>\n",
       "      <td>2</td>\n",
       "    </tr>\n",
       "    <tr>\n",
       "      <th>1</th>\n",
       "      <td>ABSA - Aerolinhas Brasileiras</td>\n",
       "      <td>Denmark</td>\n",
       "      <td>1</td>\n",
       "    </tr>\n",
       "    <tr>\n",
       "      <th>2</th>\n",
       "      <td>ABSA - Aerolinhas Brasileiras</td>\n",
       "      <td>Norway</td>\n",
       "      <td>5</td>\n",
       "    </tr>\n",
       "    <tr>\n",
       "      <th>3</th>\n",
       "      <td>ALAK</td>\n",
       "      <td>Sudan</td>\n",
       "      <td>8</td>\n",
       "    </tr>\n",
       "    <tr>\n",
       "      <th>4</th>\n",
       "      <td>Abaet</td>\n",
       "      <td>Brazil</td>\n",
       "      <td>3</td>\n",
       "    </tr>\n",
       "    <tr>\n",
       "      <th>5</th>\n",
       "      <td>Abu Dhabi Amiri Flight</td>\n",
       "      <td>Canada</td>\n",
       "      <td>52</td>\n",
       "    </tr>\n",
       "    <tr>\n",
       "      <th>6</th>\n",
       "      <td>Adria Airways</td>\n",
       "      <td>Albania</td>\n",
       "      <td>2</td>\n",
       "    </tr>\n",
       "    <tr>\n",
       "      <th>7</th>\n",
       "      <td>Adria Airways</td>\n",
       "      <td>Austria</td>\n",
       "      <td>1</td>\n",
       "    </tr>\n",
       "    <tr>\n",
       "      <th>8</th>\n",
       "      <td>Adria Airways</td>\n",
       "      <td>Belgium</td>\n",
       "      <td>1</td>\n",
       "    </tr>\n",
       "    <tr>\n",
       "      <th>9</th>\n",
       "      <td>Adria Airways</td>\n",
       "      <td>Bosnia and Herzegovina</td>\n",
       "      <td>1</td>\n",
       "    </tr>\n",
       "  </tbody>\n",
       "</table>\n",
       "</div>"
      ],
      "text/plain": [
       "                            name                 country  num_flights\n",
       "0                    40-Mile Air           United States            2\n",
       "1  ABSA - Aerolinhas Brasileiras                 Denmark            1\n",
       "2  ABSA - Aerolinhas Brasileiras                  Norway            5\n",
       "3                           ALAK                   Sudan            8\n",
       "4                          Abaet                  Brazil            3\n",
       "5         Abu Dhabi Amiri Flight                  Canada           52\n",
       "6                  Adria Airways                 Albania            2\n",
       "7                  Adria Airways                 Austria            1\n",
       "8                  Adria Airways                 Belgium            1\n",
       "9                  Adria Airways  Bosnia and Herzegovina            1"
      ]
     },
     "execution_count": 16,
     "metadata": {},
     "output_type": "execute_result"
    }
   ],
   "source": [
    "query = \"\"\"\n",
    "SELECT DISTINCT al.name, ap.country,\n",
    "COUNT(*) OVER(PARTITION BY al.name, ap.country ORDER BY al.name ) AS num_flights\n",
    "FROM routes\n",
    "INNER JOIN airports AS ap ON ap.id = routes.source_id\n",
    "INNER JOIN airlines AS al ON al.id = routes.airline_id\n",
    "LIMIT 50\n",
    "\"\"\"\n",
    "df = pd.read_sql_query(query, conn)\n",
    "df.head(10)"
   ]
  }
 ],
 "metadata": {
  "kernelspec": {
   "display_name": "Python 3 (ipykernel)",
   "language": "python",
   "name": "python3"
  },
  "language_info": {
   "codemirror_mode": {
    "name": "ipython",
    "version": 3
   },
   "file_extension": ".py",
   "mimetype": "text/x-python",
   "name": "python",
   "nbconvert_exporter": "python",
   "pygments_lexer": "ipython3",
   "version": "3.7.17"
  },
  "pycharm": {
   "stem_cell": {
    "cell_type": "raw",
    "metadata": {
     "collapsed": false
    },
    "source": []
   }
  },
  "toc-showcode": true,
  "toc-showmarkdowntxt": true
 },
 "nbformat": 4,
 "nbformat_minor": 4
}
